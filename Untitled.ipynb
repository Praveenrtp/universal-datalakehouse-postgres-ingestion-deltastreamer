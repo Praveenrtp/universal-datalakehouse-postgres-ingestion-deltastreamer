{
 "cells": [
  {
   "cell_type": "markdown",
   "id": "6ab875bd-09b8-4ffc-bea2-683ceab76956",
   "metadata": {},
   "source": [
    "# Apache X Table with DeltaStreamer and trino Demo"
   ]
  },
  {
   "cell_type": "markdown",
   "id": "1fae7304-be62-471c-8eee-9ac72fdf2f00",
   "metadata": {},
   "source": [
    "# Install DEP\n",
    "```\n",
    "pip install trino\n",
    "pip install ipython-sql\n",
    "\n",
    "```"
   ]
  },
  {
   "cell_type": "markdown",
   "id": "9dd5b6ec-dc36-4666-abfd-2a3d7321fc55",
   "metadata": {},
   "source": [
    "# Read data as HUDI "
   ]
  },
  {
   "cell_type": "code",
   "execution_count": 1,
   "id": "4d063637-aab8-4c7c-968b-d9dab3548030",
   "metadata": {},
   "outputs": [],
   "source": [
    "%load_ext sql"
   ]
  },
  {
   "cell_type": "code",
   "execution_count": 2,
   "id": "6d2d4f61-d068-4f08-8343-8c70ac54ff5f",
   "metadata": {},
   "outputs": [],
   "source": [
    "%sql trino://admin@localhost:8080/default"
   ]
  },
  {
   "cell_type": "code",
   "execution_count": 3,
   "id": "154fc82f-b218-47c2-8028-05b970b6a782",
   "metadata": {},
   "outputs": [
    {
     "name": "stdout",
     "output_type": "stream",
     "text": [
      " * trino://admin@localhost:8080/default\n",
      "Done.\n"
     ]
    },
    {
     "data": {
      "text/html": [
       "<table>\n",
       "    <thead>\n",
       "        <tr>\n",
       "            <th>Catalog</th>\n",
       "        </tr>\n",
       "    </thead>\n",
       "    <tbody>\n",
       "        <tr>\n",
       "            <td>delta</td>\n",
       "        </tr>\n",
       "        <tr>\n",
       "            <td>hive</td>\n",
       "        </tr>\n",
       "        <tr>\n",
       "            <td>hudi</td>\n",
       "        </tr>\n",
       "        <tr>\n",
       "            <td>iceberg</td>\n",
       "        </tr>\n",
       "        <tr>\n",
       "            <td>minio</td>\n",
       "        </tr>\n",
       "        <tr>\n",
       "            <td>system</td>\n",
       "        </tr>\n",
       "    </tbody>\n",
       "</table>"
      ],
      "text/plain": [
       "[('delta',), ('hive',), ('hudi',), ('iceberg',), ('minio',), ('system',)]"
      ]
     },
     "execution_count": 3,
     "metadata": {},
     "output_type": "execute_result"
    }
   ],
   "source": [
    "%sql SHOW CATALOGS"
   ]
  },
  {
   "cell_type": "code",
   "execution_count": 4,
   "id": "3b9db31f-aba4-4525-be67-1d0333c177af",
   "metadata": {},
   "outputs": [
    {
     "name": "stdout",
     "output_type": "stream",
     "text": [
      " * trino://admin@localhost:8080/default\n",
      "Done.\n"
     ]
    },
    {
     "data": {
      "text/plain": [
       "[]"
      ]
     },
     "execution_count": 4,
     "metadata": {},
     "output_type": "execute_result"
    }
   ],
   "source": [
    "%sql USE hudi.default"
   ]
  },
  {
   "cell_type": "code",
   "execution_count": 5,
   "id": "b8201b34-f4c2-4504-b6d9-9957ffa23609",
   "metadata": {},
   "outputs": [
    {
     "name": "stdout",
     "output_type": "stream",
     "text": [
      " * trino://admin@localhost:8080/default\n",
      "Done.\n"
     ]
    },
    {
     "data": {
      "text/html": [
       "<table>\n",
       "    <thead>\n",
       "        <tr>\n",
       "            <th>Table</th>\n",
       "        </tr>\n",
       "    </thead>\n",
       "    <tbody>\n",
       "        <tr>\n",
       "            <td>sales</td>\n",
       "        </tr>\n",
       "    </tbody>\n",
       "</table>"
      ],
      "text/plain": [
       "[('sales',)]"
      ]
     },
     "execution_count": 5,
     "metadata": {},
     "output_type": "execute_result"
    }
   ],
   "source": [
    "%sql show tables"
   ]
  },
  {
   "cell_type": "code",
   "execution_count": 8,
   "id": "3e49e25d-5423-437a-9118-bc918c0d153e",
   "metadata": {},
   "outputs": [
    {
     "name": "stdout",
     "output_type": "stream",
     "text": [
      " * trino://admin@localhost:8080/default\n",
      "Done.\n"
     ]
    },
    {
     "data": {
      "text/html": [
       "<table>\n",
       "    <thead>\n",
       "        <tr>\n",
       "            <th>salesid</th>\n",
       "            <th>referral</th>\n",
       "        </tr>\n",
       "    </thead>\n",
       "    <tbody>\n",
       "        <tr>\n",
       "            <td>3</td>\n",
       "            <td>WordOfMouth</td>\n",
       "        </tr>\n",
       "        <tr>\n",
       "            <td>5</td>\n",
       "            <td>WordOfMouth</td>\n",
       "        </tr>\n",
       "        <tr>\n",
       "            <td>2</td>\n",
       "            <td>OnlineAd</td>\n",
       "        </tr>\n",
       "        <tr>\n",
       "            <td>4</td>\n",
       "            <td>SocialMedia</td>\n",
       "        </tr>\n",
       "    </tbody>\n",
       "</table>"
      ],
      "text/plain": [
       "[(3, 'WordOfMouth'), (5, 'WordOfMouth'), (2, 'OnlineAd'), (4, 'SocialMedia')]"
      ]
     },
     "execution_count": 8,
     "metadata": {},
     "output_type": "execute_result"
    }
   ],
   "source": [
    "%sql SELECT salesid,referral  FROM sales "
   ]
  },
  {
   "cell_type": "markdown",
   "id": "889dd4c8-8c76-481d-859a-75457967e159",
   "metadata": {},
   "source": [
    " %sql describe  sales"
   ]
  },
  {
   "cell_type": "markdown",
   "id": "4deaad12-8e98-45d7-9950-dc396074f1d7",
   "metadata": {},
   "source": [
    "# Delta"
   ]
  },
  {
   "cell_type": "code",
   "execution_count": 11,
   "id": "cf25c610-508a-4dbb-a35f-492827a21562",
   "metadata": {},
   "outputs": [
    {
     "name": "stdout",
     "output_type": "stream",
     "text": [
      " * trino://admin@localhost:8080/default\n",
      "Done.\n"
     ]
    },
    {
     "data": {
      "text/html": [
       "<table>\n",
       "    <thead>\n",
       "        <tr>\n",
       "            <th>Catalog</th>\n",
       "        </tr>\n",
       "    </thead>\n",
       "    <tbody>\n",
       "        <tr>\n",
       "            <td>delta</td>\n",
       "        </tr>\n",
       "        <tr>\n",
       "            <td>hive</td>\n",
       "        </tr>\n",
       "        <tr>\n",
       "            <td>hudi</td>\n",
       "        </tr>\n",
       "        <tr>\n",
       "            <td>iceberg</td>\n",
       "        </tr>\n",
       "        <tr>\n",
       "            <td>minio</td>\n",
       "        </tr>\n",
       "        <tr>\n",
       "            <td>system</td>\n",
       "        </tr>\n",
       "    </tbody>\n",
       "</table>"
      ],
      "text/plain": [
       "[('delta',), ('hive',), ('hudi',), ('iceberg',), ('minio',), ('system',)]"
      ]
     },
     "execution_count": 11,
     "metadata": {},
     "output_type": "execute_result"
    }
   ],
   "source": [
    "%sql SHOW CATALOGS"
   ]
  },
  {
   "cell_type": "code",
   "execution_count": 12,
   "id": "7d50291f-4a39-48b0-8487-5854ad855d2c",
   "metadata": {},
   "outputs": [
    {
     "name": "stdout",
     "output_type": "stream",
     "text": [
      " * trino://admin@localhost:8080/default\n",
      "Done.\n"
     ]
    },
    {
     "data": {
      "text/plain": [
       "[]"
      ]
     },
     "execution_count": 12,
     "metadata": {},
     "output_type": "execute_result"
    }
   ],
   "source": [
    "%sql USE delta.delta_db"
   ]
  },
  {
   "cell_type": "code",
   "execution_count": 13,
   "id": "f957d773-8634-4019-a586-003fcac2aa88",
   "metadata": {},
   "outputs": [
    {
     "name": "stdout",
     "output_type": "stream",
     "text": [
      " * trino://admin@localhost:8080/default\n",
      "Done.\n"
     ]
    },
    {
     "data": {
      "text/html": [
       "<table>\n",
       "    <thead>\n",
       "        <tr>\n",
       "            <th>Table</th>\n",
       "        </tr>\n",
       "    </thead>\n",
       "    <tbody>\n",
       "        <tr>\n",
       "            <td>delta_sales</td>\n",
       "        </tr>\n",
       "    </tbody>\n",
       "</table>"
      ],
      "text/plain": [
       "[('delta_sales',)]"
      ]
     },
     "execution_count": 13,
     "metadata": {},
     "output_type": "execute_result"
    }
   ],
   "source": [
    "%sql show tables"
   ]
  },
  {
   "cell_type": "code",
   "execution_count": 14,
   "id": "72bab063-765a-4a5c-9e6b-16d8625b195b",
   "metadata": {},
   "outputs": [
    {
     "name": "stdout",
     "output_type": "stream",
     "text": [
      " * trino://admin@localhost:8080/default\n",
      "Done.\n"
     ]
    },
    {
     "data": {
      "text/html": [
       "<table>\n",
       "    <thead>\n",
       "        <tr>\n",
       "            <th>_hoodie_commit_time</th>\n",
       "            <th>_hoodie_commit_seqno</th>\n",
       "            <th>_hoodie_record_key</th>\n",
       "            <th>_hoodie_partition_path</th>\n",
       "            <th>_hoodie_file_name</th>\n",
       "            <th>_change_operation_type</th>\n",
       "            <th>_upstream_event_processed_ts_ms</th>\n",
       "            <th>db_shard_source_partition</th>\n",
       "            <th>db_schema_source_partition</th>\n",
       "            <th>_event_origin_ts_ms</th>\n",
       "            <th>_event_tx_id</th>\n",
       "            <th>_event_lsn</th>\n",
       "            <th>_event_xmin</th>\n",
       "            <th>salesid</th>\n",
       "            <th>invoiceid</th>\n",
       "            <th>itemid</th>\n",
       "            <th>category</th>\n",
       "            <th>price</th>\n",
       "            <th>quantity</th>\n",
       "            <th>orderdate</th>\n",
       "            <th>destinationstate</th>\n",
       "            <th>shippingtype</th>\n",
       "            <th>referral</th>\n",
       "            <th>updated_at</th>\n",
       "        </tr>\n",
       "    </thead>\n",
       "    <tbody>\n",
       "        <tr>\n",
       "            <td>20240406160949299</td>\n",
       "            <td>20240406160949299_0_1</td>\n",
       "            <td>3</td>\n",
       "            <td></td>\n",
       "            <td>7a62108f-d5b7-4d68-b7ca-4c63b607b1ce-0_0-114-202_20240406161322878.parquet</td>\n",
       "            <td>r</td>\n",
       "            <td>1712433641023</td>\n",
       "            <td>hive</td>\n",
       "            <td>public</td>\n",
       "            <td>1712433641023</td>\n",
       "            <td>832</td>\n",
       "            <td>25907440</td>\n",
       "            <td>None</td>\n",
       "            <td>3</td>\n",
       "            <td>103</td>\n",
       "            <td>2</td>\n",
       "            <td>Home &amp; Garden</td>\n",
       "            <td>199.50</td>\n",
       "            <td>1</td>\n",
       "            <td>19684</td>\n",
       "            <td>Texas</td>\n",
       "            <td>Express</td>\n",
       "            <td>WordOfMouth</td>\n",
       "            <td>1712433407698369</td>\n",
       "        </tr>\n",
       "        <tr>\n",
       "            <td>20240406160949299</td>\n",
       "            <td>20240406160949299_0_2</td>\n",
       "            <td>5</td>\n",
       "            <td></td>\n",
       "            <td>7a62108f-d5b7-4d68-b7ca-4c63b607b1ce-0_0-114-202_20240406161322878.parquet</td>\n",
       "            <td>r</td>\n",
       "            <td>1712433641023</td>\n",
       "            <td>hive</td>\n",
       "            <td>public</td>\n",
       "            <td>1712433641023</td>\n",
       "            <td>832</td>\n",
       "            <td>25907440</td>\n",
       "            <td>None</td>\n",
       "            <td>5</td>\n",
       "            <td>103</td>\n",
       "            <td>2</td>\n",
       "            <td>Home &amp; Garden</td>\n",
       "            <td>199.50</td>\n",
       "            <td>1</td>\n",
       "            <td>19684</td>\n",
       "            <td>Texas</td>\n",
       "            <td>Express</td>\n",
       "            <td>WordOfMouth</td>\n",
       "            <td>1712433407698739</td>\n",
       "        </tr>\n",
       "        <tr>\n",
       "            <td>20240406160949299</td>\n",
       "            <td>20240406160949299_0_3</td>\n",
       "            <td>2</td>\n",
       "            <td></td>\n",
       "            <td>7a62108f-d5b7-4d68-b7ca-4c63b607b1ce-0_0-114-202_20240406161322878.parquet</td>\n",
       "            <td>r</td>\n",
       "            <td>1712433641023</td>\n",
       "            <td>hive</td>\n",
       "            <td>public</td>\n",
       "            <td>1712433641023</td>\n",
       "            <td>832</td>\n",
       "            <td>25907440</td>\n",
       "            <td>None</td>\n",
       "            <td>2</td>\n",
       "            <td>102</td>\n",
       "            <td>3</td>\n",
       "            <td>Clothing</td>\n",
       "            <td>49.99</td>\n",
       "            <td>5</td>\n",
       "            <td>19683</td>\n",
       "            <td>New York</td>\n",
       "            <td>Standard</td>\n",
       "            <td>OnlineAd</td>\n",
       "            <td>1712433407698150</td>\n",
       "        </tr>\n",
       "        <tr>\n",
       "            <td>20240406160949299</td>\n",
       "            <td>20240406160949299_0_4</td>\n",
       "            <td>4</td>\n",
       "            <td></td>\n",
       "            <td>7a62108f-d5b7-4d68-b7ca-4c63b607b1ce-0_0-114-202_20240406161322878.parquet</td>\n",
       "            <td>r</td>\n",
       "            <td>1712433641023</td>\n",
       "            <td>hive</td>\n",
       "            <td>public</td>\n",
       "            <td>1712433641023</td>\n",
       "            <td>832</td>\n",
       "            <td>25907440</td>\n",
       "            <td>None</td>\n",
       "            <td>4</td>\n",
       "            <td>104</td>\n",
       "            <td>4</td>\n",
       "            <td>Books</td>\n",
       "            <td>15.75</td>\n",
       "            <td>3</td>\n",
       "            <td>19685</td>\n",
       "            <td>Florida</td>\n",
       "            <td>Standard</td>\n",
       "            <td>SocialMedia</td>\n",
       "            <td>1712433407698564</td>\n",
       "        </tr>\n",
       "    </tbody>\n",
       "</table>"
      ],
      "text/plain": [
       "[('20240406160949299', '20240406160949299_0_1', '3', '', '7a62108f-d5b7-4d68-b7ca-4c63b607b1ce-0_0-114-202_20240406161322878.parquet', 'r', 1712433641023, 'hive', 'public', 1712433641023, 832, 25907440, None, 3, 103, 2, 'Home & Garden', Decimal('199.50'), 1, 19684, 'Texas', 'Express', 'WordOfMouth', 1712433407698369),\n",
       " ('20240406160949299', '20240406160949299_0_2', '5', '', '7a62108f-d5b7-4d68-b7ca-4c63b607b1ce-0_0-114-202_20240406161322878.parquet', 'r', 1712433641023, 'hive', 'public', 1712433641023, 832, 25907440, None, 5, 103, 2, 'Home & Garden', Decimal('199.50'), 1, 19684, 'Texas', 'Express', 'WordOfMouth', 1712433407698739),\n",
       " ('20240406160949299', '20240406160949299_0_3', '2', '', '7a62108f-d5b7-4d68-b7ca-4c63b607b1ce-0_0-114-202_20240406161322878.parquet', 'r', 1712433641023, 'hive', 'public', 1712433641023, 832, 25907440, None, 2, 102, 3, 'Clothing', Decimal('49.99'), 5, 19683, 'New York', 'Standard', 'OnlineAd', 1712433407698150),\n",
       " ('20240406160949299', '20240406160949299_0_4', '4', '', '7a62108f-d5b7-4d68-b7ca-4c63b607b1ce-0_0-114-202_20240406161322878.parquet', 'r', 1712433641023, 'hive', 'public', 1712433641023, 832, 25907440, None, 4, 104, 4, 'Books', Decimal('15.75'), 3, 19685, 'Florida', 'Standard', 'SocialMedia', 1712433407698564)]"
      ]
     },
     "execution_count": 14,
     "metadata": {},
     "output_type": "execute_result"
    }
   ],
   "source": [
    "%sql select * from delta_sales"
   ]
  },
  {
   "cell_type": "code",
   "execution_count": null,
   "id": "e33c2e8e-159a-43dd-b674-2fcaf18688f0",
   "metadata": {},
   "outputs": [],
   "source": []
  }
 ],
 "metadata": {
  "kernelspec": {
   "display_name": "Python 3 (ipykernel)",
   "language": "python",
   "name": "python3"
  },
  "language_info": {
   "codemirror_mode": {
    "name": "ipython",
    "version": 3
   },
   "file_extension": ".py",
   "mimetype": "text/x-python",
   "name": "python",
   "nbconvert_exporter": "python",
   "pygments_lexer": "ipython3",
   "version": "3.11.6"
  }
 },
 "nbformat": 4,
 "nbformat_minor": 5
}
